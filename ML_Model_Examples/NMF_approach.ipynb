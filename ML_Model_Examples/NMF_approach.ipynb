{
 "cells": [
  {
   "cell_type": "code",
   "execution_count": 50,
   "metadata": {},
   "outputs": [
    {
     "name": "stdout",
     "output_type": "stream",
     "text": [
      "                  fromrun  fromlumi  fromrun.1  fromlumi.1  entries  \\\n",
      "fromrun fromlumi                                                      \n",
      "306460  60         306460        60     306460          60    10164   \n",
      "        61         306460        61     306460          61    10358   \n",
      "        62         306460        62     306460          62    10107   \n",
      "        63         306460        63     306460          63    10151   \n",
      "        64         306460        64     306460          64      327   \n",
      "\n",
      "                                                              histo  labels  \n",
      "fromrun fromlumi                                                             \n",
      "306460  60        [11, 51, 59, 78, 122, 138, 181, 248, 266, 324,...       0  \n",
      "        61        [6, 40, 58, 114, 105, 162, 183, 233, 293, 336,...       0  \n",
      "        62        [11, 43, 74, 88, 99, 143, 204, 220, 254, 357, ...       0  \n",
      "        63        [6, 47, 62, 90, 116, 130, 168, 263, 288, 338, ...       0  \n",
      "        64        [0, 2, 1, 3, 5, 6, 3, 8, 12, 9, 16, 12, 11, 12...       0  \n"
     ]
    }
   ],
   "source": [
    "import pandas as pd\n",
    "import matplotlib.pyplot as plt\n",
    "import numpy as np\n",
    "from ast import literal_eval\n",
    "import json\n",
    "\n",
    "df= pd.read_csv('GOLDEN_Tot_ZeroBias_UL2017_DataFrame_chargeInner_PXLayer_1.csv')\n",
    "\n",
    "df['histo']=df['histo'].apply(literal_eval)\n",
    "\n",
    "df.set_index(['fromrun','fromlumi'], inplace=True, drop=False)\n",
    "df.sort_index(inplace=True)\n",
    "#print(df.columns)\n",
    "#\n",
    "df['labels']=0\n",
    "\n",
    "print(df.tail())\n"
   ]
  },
  {
   "cell_type": "code",
   "execution_count": 2,
   "metadata": {},
   "outputs": [
    {
     "data": {
      "image/png": "[encoded data removed]",
      "text/plain": [
       "<Figure size 432x288 with 1 Axes>"
      ]
     },
     "metadata": {
      "needs_background": "light"
     },
     "output_type": "display_data"
    }
   ],
   "source": [
    "def PlotHist(run,ls):\n",
    "\n",
    "    Xmax=80000.0\n",
    "    Xmin=0.0\n",
    "    Xbins=100\n",
    "    hname=\"chargeInner_PXLayer_1\"\n",
    "    \n",
    "    global df\n",
    "    \n",
    "    ahisto=df['histo'][run][ls]\n",
    "    \n",
    "    x= np.linspace(Xmin,Xmax,Xbins)\n",
    "    plt.xlim(Xmin,Xmax)\n",
    "    \n",
    "    plt.step(x, ahisto, where='mid', label=(\" LS \" + str(df.fromlumi[run][ls]) + \" Run \" + str(df.fromrun[run][ls]) ))\n",
    "    plt.legend()\n",
    "    \n",
    "PlotHist(306460,62)"
   ]
  },
  {
   "cell_type": "code",
   "execution_count": 51,
   "metadata": {},
   "outputs": [
    {
     "name": "stdout",
     "output_type": "stream",
     "text": [
      "violation: 1.0\n",
      "violation: 0.822431458488\n",
      "violation: 0.592862602501\n",
      "violation: 0.316851231159\n",
      "violation: 0.213760284\n",
      "violation: 0.162333747654\n",
      "violation: 0.128235826092\n",
      "violation: 0.105454284841\n",
      "violation: 0.0882634199525\n",
      "violation: 0.0747665794454\n",
      "violation: 0.064624801991\n",
      "violation: 0.057097486717\n",
      "violation: 0.050890524078\n",
      "violation: 0.045803574247\n",
      "violation: 0.0415672296624\n",
      "violation: 0.0379719110152\n",
      "violation: 0.0350013220677\n",
      "violation: 0.0325241741969\n",
      "violation: 0.0303330902651\n",
      "violation: 0.0283860178703\n",
      "violation: 0.0266453693398\n",
      "violation: 0.0250754802667\n",
      "violation: 0.0236541035757\n",
      "violation: 0.0223701242812\n",
      "violation: 0.0212097856\n",
      "violation: 0.020191175771\n",
      "violation: 0.0192947857204\n",
      "violation: 0.0184668026318\n",
      "violation: 0.0177041253758\n",
      "violation: 0.0170229903215\n",
      "violation: 0.0164042024487\n",
      "violation: 0.01583287793\n",
      "violation: 0.0153031038555\n",
      "violation: 0.0148117708446\n",
      "violation: 0.014352509627\n",
      "violation: 0.0139240380926\n",
      "violation: 0.0135354073045\n",
      "violation: 0.0131904288727\n",
      "violation: 0.012852191948\n",
      "violation: 0.0125714152264\n",
      "violation: 0.0122832988327\n",
      "violation: 0.0119775991406\n",
      "violation: 0.0117110297342\n",
      "violation: 0.0114689071601\n",
      "violation: 0.0112248054123\n",
      "violation: 0.0109917463485\n",
      "violation: 0.0107593570297\n",
      "violation: 0.0105290536923\n",
      "violation: 0.0103088798099\n",
      "violation: 0.0100934180224\n",
      "violation: 0.00988005897453\n",
      "violation: 0.00968179002778\n",
      "violation: 0.00949807306988\n",
      "violation: 0.00932568007187\n",
      "violation: 0.00915501327456\n",
      "violation: 0.00900336879135\n",
      "violation: 0.00888413134777\n",
      "violation: 0.00873988483019\n",
      "violation: 0.0085965900048\n",
      "violation: 0.00845556228607\n",
      "violation: 0.00831936677649\n",
      "violation: 0.00819071110057\n",
      "violation: 0.00807428760042\n",
      "violation: 0.0079583107323\n",
      "violation: 0.00784134508997\n",
      "violation: 0.00772343123575\n",
      "violation: 0.00760720122986\n",
      "violation: 0.00749333634414\n",
      "violation: 0.00738181221956\n",
      "violation: 0.00727227532633\n",
      "violation: 0.00716668317673\n",
      "violation: 0.00706494455358\n",
      "violation: 0.00696905154645\n",
      "violation: 0.00687821657879\n",
      "violation: 0.00678937137565\n",
      "violation: 0.00670219316093\n",
      "violation: 0.00661666211643\n",
      "violation: 0.00653282230626\n",
      "violation: 0.0064504749441\n",
      "violation: 0.00636976761853\n",
      "violation: 0.00629060076958\n",
      "violation: 0.00622017306659\n",
      "violation: 0.0061704925416\n",
      "violation: 0.00610111626588\n",
      "violation: 0.00603040080148\n",
      "violation: 0.00595994499357\n",
      "violation: 0.00589019461399\n",
      "violation: 0.00582128343474\n",
      "violation: 0.0057532699799\n",
      "violation: 0.00568614622684\n",
      "violation: 0.00562088824907\n",
      "violation: 0.00555817127672\n",
      "violation: 0.00549692772498\n",
      "violation: 0.00543637597507\n",
      "violation: 0.00537669483589\n",
      "violation: 0.00531941201116\n",
      "violation: 0.00526718157427\n",
      "violation: 0.00521527331097\n",
      "violation: 0.00516389531012\n",
      "violation: 0.00511328792233\n",
      "violation: 0.00506329786506\n",
      "violation: 0.00501397559432\n",
      "violation: 0.00496527528021\n",
      "violation: 0.00491717951705\n",
      "violation: 0.0048696941048\n",
      "violation: 0.00482282858517\n",
      "violation: 0.00477662943792\n",
      "violation: 0.00473105226909\n",
      "violation: 0.00468603074172\n",
      "violation: 0.00464160126498\n",
      "violation: 0.00459775363119\n",
      "violation: 0.00455445816831\n",
      "violation: 0.0045117520668\n",
      "violation: 0.00446962399695\n",
      "violation: 0.00442802972939\n",
      "violation: 0.00438853036811\n",
      "violation: 0.00435236855111\n",
      "violation: 0.00431154518895\n",
      "violation: 0.00427099678947\n",
      "violation: 0.0042311693146\n",
      "violation: 0.00419353810993\n",
      "violation: 0.00415474868621\n",
      "violation: 0.0041153662932\n",
      "violation: 0.00407687195214\n",
      "violation: 0.00403898647333\n",
      "violation: 0.00400161886012\n",
      "violation: 0.00396478798465\n",
      "violation: 0.0039284203369\n",
      "violation: 0.003892541156\n",
      "violation: 0.00385714178301\n",
      "violation: 0.0038229282908\n",
      "violation: 0.00379076638469\n",
      "violation: 0.00375705365674\n",
      "violation: 0.0037252660566\n",
      "violation: 0.00369335384348\n",
      "violation: 0.00366730355365\n",
      "violation: 0.00363945955703\n",
      "violation: 0.00361185921048\n",
      "violation: 0.00358449797054\n",
      "violation: 0.00355720002046\n",
      "violation: 0.00352993809237\n",
      "violation: 0.00350279331983\n",
      "violation: 0.00347583070254\n",
      "violation: 0.00344964942331\n",
      "violation: 0.00342270598734\n",
      "violation: 0.00339607854868\n",
      "violation: 0.00336949950164\n",
      "violation: 0.00334322862798\n",
      "violation: 0.0033172942582\n",
      "violation: 0.00329165646487\n",
      "violation: 0.00326629049353\n",
      "violation: 0.00324119892931\n",
      "violation: 0.00321646188959\n",
      "violation: 0.00319201095111\n",
      "violation: 0.00316782858499\n",
      "violation: 0.00314394780241\n",
      "violation: 0.00312035062581\n",
      "violation: 0.00309721694351\n",
      "violation: 0.00307547879711\n",
      "violation: 0.00305367002289\n",
      "violation: 0.00303522180526\n",
      "violation: 0.00301649511784\n",
      "violation: 0.00299762077646\n",
      "violation: 0.00297864354122\n",
      "violation: 0.00295961447441\n",
      "violation: 0.00294061487792\n",
      "violation: 0.00292166159462\n",
      "violation: 0.00290280786373\n",
      "violation: 0.00288406145261\n",
      "violation: 0.00286539930458\n",
      "violation: 0.00284689381619\n",
      "violation: 0.00282852058519\n",
      "violation: 0.00281028941819\n",
      "violation: 0.00279214288747\n",
      "violation: 0.00277414262922\n",
      "violation: 0.00275628558991\n",
      "violation: 0.0027385269103\n",
      "violation: 0.00272093756041\n",
      "violation: 0.00270352501081\n",
      "violation: 0.0026862361393\n",
      "violation: 0.00266910150568\n",
      "violation: 0.00265209723876\n",
      "violation: 0.00263523493075\n",
      "violation: 0.00261854919545\n",
      "violation: 0.00260200408468\n",
      "violation: 0.00258561473528\n",
      "violation: 0.00257205493967\n",
      "violation: 0.00255676443365\n",
      "violation: 0.00254113542842\n",
      "violation: 0.00252554901583\n",
      "violation: 0.00251005343907\n",
      "violation: 0.0024946836946\n",
      "violation: 0.00247941119143\n",
      "violation: 0.00246429094272\n",
      "violation: 0.0024493072997\n",
      "violation: 0.00243443582715\n",
      "violation: 0.00241967508078\n",
      "violation: 0.00240504534437\n",
      "violation: 0.00239052859273\n",
      "violation: 0.00237614841234\n"
     ]
    }
   ],
   "source": [
    "import keras\n",
    "from sklearn.preprocessing import normalize\n",
    "from sklearn.decomposition import NMF\n",
    "\n",
    "data=np.array(df['histo'])\n",
    "data = np.stack(data, axis=0)\n",
    "\n",
    "data=normalize(data, norm='l1', axis=1)\n",
    "\n",
    "model= NMF(n_components=5, verbose=True)\n",
    "\n",
    "H=model.fit_transform(data)\n",
    "W=model.components_\n",
    "\n"
   ]
  },
  {
   "cell_type": "code",
   "execution_count": 58,
   "metadata": {},
   "outputs": [
    {
     "name": "stdout",
     "output_type": "stream",
     "text": [
      "5\n",
      "32.37455293624052\n"
     ]
    }
   ],
   "source": [
    "print(len(W))\n",
    "print(W[0].sum())"
   ]
  },
  {
   "cell_type": "code",
   "execution_count": 62,
   "metadata": {},
   "outputs": [
    {
     "data": {
      "image/png": "[encoded data removed]",
      "text/plain": [
       "<Figure size 432x288 with 1 Axes>"
      ]
     },
     "metadata": {
      "needs_background": "light"
     },
     "output_type": "display_data"
    }
   ],
   "source": [
    "def plotComponents(comp):\n",
    "    size=len(W)\n",
    "    x= np.linspace(0,80000,100)\n",
    "    for i in range(0,size):\n",
    "        plt.step(x,comp[i]/comp[i].sum(), where='mid', label=\"component \" + str(i+1))\n",
    "    plt.legend()\n",
    "    plt.show()    \n",
    "\n",
    "plotComponents(W)"
   ]
  },
  {
   "cell_type": "code",
   "execution_count": 80,
   "metadata": {},
   "outputs": [
    {
     "ename": "SyntaxError",
     "evalue": "invalid syntax (<ipython-input-80-71a434839c38>, line 21)",
     "output_type": "error",
     "traceback": [
      "\u001b[0;36m  File \u001b[0;32m\"<ipython-input-80-71a434839c38>\"\u001b[0;36m, line \u001b[0;32m21\u001b[0m\n\u001b[0;31m    plt.step(x,tot, where='mid', label=\"Reco, mse10=\"+str(print('6.5f' % err)), linestyle='--',c=\"black\")\u001b[0m\n\u001b[0m                                                              ^\u001b[0m\n\u001b[0;31mSyntaxError\u001b[0m\u001b[0;31m:\u001b[0m invalid syntax\n"
     ]
    }
   ],
   "source": [
    "import math\n",
    "\n",
    "from keras import backend as K\n",
    "import tensorflow as tf\n",
    "\n",
    "def mseTop10(y_true, y_pred):\n",
    "    top_values, _ = tf.nn.top_k(K.square(y_pred - y_true), k=10, sorted=True)\n",
    "    mean=K.mean(top_values, axis=-1)\n",
    "    return K.sqrt(mean)\n",
    "\n",
    "#def plotDecomposition()\n",
    "x= np.linspace(0,80000,100)\n",
    "plt.step(x,data[0], where='mid', label=\"original\")\n",
    "plt.step(x,W[0]*H[0][0], where='mid', label=\"component 1\")\n",
    "plt.step(x,W[1]*H[0][1], where='mid', label=\"component 2\")\n",
    "plt.step(x,W[2]*H[0][2], where='mid', label=\"component 3\")\n",
    "plt.step(x,W[3]*H[0][3], where='mid', label=\"component 4\")\n",
    "plt.step(x,W[4]*H[0][4], where='mid', label=\"component 5\")\n",
    "tot=W[0]*H[0][0]+W[1]*H[0][1]+W[2]*H[0][2]+W[3]*H[0][3]+W[4]*H[0][4]\n",
    "err=K.eval(mseTop10(tot,data[0]))\n",
    "plt.step(x,tot, where='mid', label=\"Reco, mse10=\"+str(err), linestyle='--',c=\"black\")\n",
    "#plt.text(0.5,0.5,str(err))\n",
    "#plt.yscale(\"log\")\n",
    "plt.legend()\n",
    "plt.show()"
   ]
  },
  {
   "cell_type": "code",
   "execution_count": 86,
   "metadata": {},
   "outputs": [
    {
     "name": "stdout",
     "output_type": "stream",
     "text": [
      "5\n",
      "0.05619766981511917\n"
     ]
    },
    {
     "data": {
      "image/png": "[encoded data removed]",
      "text/plain": [
       "<Figure size 432x288 with 1 Axes>"
      ]
     },
     "metadata": {
      "needs_background": "light"
     },
     "output_type": "display_data"
    }
   ],
   "source": [
    "#extract coefficients for each component\n",
    "rows=H.shape[0]\n",
    "cols=H.shape[1]\n",
    "print(cols)\n",
    "\n",
    "print(H.max())\n",
    "for i in range(0,cols):\n",
    "    plt.hist(H[:,i],bins=200,range=(0,H.max()*1.2), alpha=0.3, label=\"component \" + str(i+1))\n",
    "\n",
    "plt.yscale(\"log\")\n",
    "plt.legend()\n",
    "plt.show()"
   ]
  },
  {
   "cell_type": "code",
   "execution_count": 95,
   "metadata": {},
   "outputs": [
    {
     "data": {
      "image/png": "[encoded data removed]",
      "text/plain": [
       "<Figure size 432x288 with 1 Axes>"
      ]
     },
     "metadata": {
      "needs_background": "light"
     },
     "output_type": "display_data"
    }
   ],
   "source": [
    "from mpl_toolkits import mplot3d\n",
    "\n",
    "fig = plt.figure()\n",
    "ax = fig.add_subplot(111, projection='3d')\n",
    "\n",
    "ax.scatter(H[:,0],H[:,1],H[:,2])\n",
    "ax.set_xlabel('comp1')\n",
    "ax.set_ylabel('comp2')\n",
    "ax.set_zlabel('comp3')\n",
    "plt.show()"
   ]
  },
  {
   "cell_type": "code",
   "execution_count": null,
   "metadata": {},
   "outputs": [],
   "source": []
  }
 ],
 "metadata": {
  "kernelspec": {
   "display_name": "Python 2",
   "language": "python",
   "name": "python2"
  },
  "language_info": {
   "codemirror_mode": {
    "name": "ipython",
    "version": 2
   },
   "file_extension": ".py",
   "mimetype": "text/x-python",
   "name": "python",
   "nbconvert_exporter": "python",
   "pygments_lexer": "ipython2",
   "version": "2.7.16"
  }
 },
 "nbformat": 4,
 "nbformat_minor": 2
}
