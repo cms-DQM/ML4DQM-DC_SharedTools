{
 "cells": [
  {
   "cell_type": "code",
   "execution_count": 1,
   "metadata": {},
   "outputs": [],
   "source": [
    "# 1. Find some data. Normally, a DAS query can be used to list remote DQMIO files:\n",
    "# dasgoclient -query 'file dataset=/SingleMuon/Run2018A-12Nov2019_UL2018-v2/DQMIO' --limit 0\n",
    "# then, ROOT should be able to open these files if the paths are prefixed with \"root://cms-xrd-global.cern.ch/\"\n",
    "# and they are on disk somewhere on the planet.\n",
    "# However, on Minsky we can't run dasgoclient and reading remote files is slow, so I copied\n",
    "# about 200GB of DQMIO data to a local folder.\n",
    "# The same sample is also available on EOS at \n",
    "# /eos/user/m/mschneid/SWAN_projects/dqmioplayground/moredqmiodata/_SingleMuon_Run2018A-12Nov2019_UL2018-v2_DQMIO/\n",
    "\n",
    "#files = open(\"ibm/dasfilelist\", \"r\").readlines()\n",
    "#FILELIST = [\"root://cms-xrd-global.cern.ch/\" + f.strip() for f in files]\n",
    "#FILELIST[:10]\n",
    "# forget it, xrootd access is awfully slow/impossible?"
   ]
  },
  {
   "cell_type": "code",
   "execution_count": 2,
   "metadata": {},
   "outputs": [],
   "source": [
    "DATAPATH = \"/nfs/public/mschneid/moredqmiodata/_SingleMuon_Run2018A-12Nov2019_UL2018-v2_DQMIO\""
   ]
  },
  {
   "cell_type": "code",
   "execution_count": 3,
   "metadata": {},
   "outputs": [
    {
     "name": "stdout",
     "output_type": "stream",
     "text": [
      "Welcome to JupyROOT 6.18/04\n"
     ]
    }
   ],
   "source": [
    "# 2. Read the DQMIO format.\n",
    "# This format is based on ROOT TTrees and used specifically in CMS DQM. IO is fairly fast,\n",
    "# partial reads of only a few MEs/LS are possible.\n",
    "# The code below implements rather efficient DQMIO IO.\n",
    "\n",
    "import ROOT\n",
    "import root_numpy\n",
    "from fnmatch import fnmatch\n",
    "from collections import namedtuple, defaultdict\n",
    "from multiprocessing.pool import ThreadPool \n",
    "IndexEntry = namedtuple('IndexEntry', ['run', 'lumi', 'type', 'file', 'firstidx', 'lastidx'])\n",
    "MonitorElement = namedtuple('MonitorElement', ['run', 'lumi', 'name', 'type', 'data'])\n",
    "NTHREADS=128\n",
    "\n",
    "def extractdatafromROOT(x):\n",
    "    if isinstance(x, ROOT.string):\n",
    "        return unicode(x.data())\n",
    "    if isinstance(x, int):\n",
    "        return x\n",
    "    if isinstance(x, float):\n",
    "        return x\n",
    "    else:\n",
    "        return root_numpy.hist2array(x)\n",
    "\n",
    "class DQMIOReader:\n",
    "    treenames = { \n",
    "      0: \"Ints\",\n",
    "      1: \"Floats\",\n",
    "      2: \"Strings\",\n",
    "      3: \"TH1Fs\",\n",
    "      4: \"TH1Ss\",\n",
    "      5: \"TH1Ds\",\n",
    "      6: \"TH2Fs\",\n",
    "      7: \"TH2Ss\",\n",
    "      8: \"TH2Ds\",\n",
    "      9: \"TH3Fs\",\n",
    "      10: \"TProfiles\",\n",
    "      11: \"TProfile2Ds\",\n",
    "    }\n",
    "    \"\"\"\n",
    "    Open the passed in files and read their index data.\n",
    "    The file names go directly to ROOT, remote files like root://cms-xrd-global.cern.ch//store/... should work.\n",
    "    \"\"\"\n",
    "    def __init__(self, *files):\n",
    "        # for non-local files (/store/...), prefix them with \"root://cms-xrd-global.cern.ch/\"\n",
    "        self.rootfiles = [ROOT.TFile.Open(f) for f in files]\n",
    "        self.readindex()\n",
    "        self.makelist()\n",
    "        \n",
    "    \"\"\"\n",
    "    Internal: read index tables.\n",
    "    \"\"\"\n",
    "    def readindex(self):\n",
    "        self.index = defaultdict(list)\n",
    "        def readfileidx(f):\n",
    "            idxtree = getattr(f, \"Indices\")\n",
    "            # release GIL in long operations. Disable if it causes trouble.\n",
    "            #idxtree.GetEntry._threaded = True\n",
    "            knownlumis = set()\n",
    "\n",
    "            for i in range(idxtree.GetEntries()):\n",
    "                idxtree.GetEntry(i)\n",
    "                run, lumi, metype = idxtree.Run, idxtree.Lumi, idxtree.Type\n",
    "                if lumi == 0:\n",
    "                    # read only per-lumi MEs for now.\n",
    "                    continue\n",
    "                # inclusive range -- for 0 entries, row is left out\n",
    "                firstidx, lastidx = idxtree.FirstIndex, idxtree.LastIndex\n",
    "                e = IndexEntry(run, lumi, metype, f, firstidx, lastidx)\n",
    "                self.index[(run, lumi)].append(e)\n",
    "        p = ThreadPool(NTHREADS)\n",
    "        p.map(readfileidx, self.rootfiles)\n",
    "        p.close()\n",
    "                \n",
    "    \"\"\"\n",
    "    Internal: make a cached list for listMEs.\n",
    "    This is not strictly correct, it just reads a single lumi and assumes all contain the same MEs.\n",
    "    \"\"\"\n",
    "    def makelist(self):\n",
    "        runlumi = next(iter(self.index.keys()))\n",
    "        mes = self.getMEsForLumi(runlumi, \"*\")\n",
    "        self.melist = dict()\n",
    "        for me in mes:\n",
    "            self.melist[me.name] = me.type\n",
    "    \n",
    "    \"\"\"\n",
    "    Return an iterable with the names of the MEs available per-lumi.\n",
    "    \"\"\"\n",
    "    def listMEs(self):\n",
    "        return self.melist.keys()\n",
    "    \"\"\"\n",
    "    Returns an iterable of (run, lumi) pairs for the lumis available in the files.\n",
    "    \"\"\"\n",
    "    def listLumis(self):\n",
    "        return self.index.keys()\n",
    "    \n",
    "    \"\"\"\n",
    "    Read MEs matching the given wildcard patterns from a single lumi.\n",
    "    For rootobjects = True, return actual root objects, by default the histogram data is extracted into numpy arrays.\n",
    "    Returns a list of MonitorElement named tuples.\n",
    "    \"\"\"\n",
    "    def getMEsForLumi(self, runlumi, *namepatterns):\n",
    "        def check_interesting(mename):\n",
    "            for pattern in namepatterns:\n",
    "                if fnmatch(mename,pattern):\n",
    "                    return True\n",
    "                return False\n",
    "\n",
    "        entries = self.index[runlumi]\n",
    "        if not entries:\n",
    "            raise IndexError(\"No data found for this lumisection\")\n",
    "        result = []\n",
    "        for e in entries:\n",
    "            metree = getattr(e.file, DQMIOReader.treenames[e.type])\n",
    "            metree.GetEntry(0)\n",
    "            metree.SetBranchStatus(\"*\",0)\n",
    "            metree.SetBranchStatus(\"FullName\",1)\n",
    "            # release GIL in long operations. Disable if it causes trouble.\n",
    "            metree.GetEntry._threaded = True\n",
    "            for x in range(e.firstidx, e.lastidx+1):\n",
    "                metree.GetEntry(x)\n",
    "                mename = str(metree.FullName)\n",
    "                if check_interesting(mename):\n",
    "                    metree.GetEntry(x, 1)\n",
    "                    value = metree.Value\n",
    "                    value = extractdatafromROOT(value)\n",
    "                    me = MonitorElement(runlumi[0], runlumi[1], mename, e.type, value)\n",
    "                    result.append(me)\n",
    "        return result\n",
    "    \n",
    "    \"\"\"\n",
    "    Read a single ME with the given name from a single lumi.\n",
    "    This can be much faster than getMEsForLumi when only few MEs are read per lumi.\n",
    "    For rootobjects = True, return actual root objects, by default the histogram data is extracted into numpy arrays.\n",
    "    Returns a list of MonitorElement named tuples.\n",
    "    \"\"\"\n",
    "    def getSingleMEForLumi(self, runlumi, name):\n",
    "        def binsearch(a, key, lower, upper):\n",
    "            n = upper - lower\n",
    "            if n <= 1: return lower\n",
    "            mid = int(n / 2) + lower\n",
    "            if a(mid) <= key: return binsearch(a, key, mid, upper)\n",
    "            else: return binsearch(a, key, lower, mid)\n",
    "        # linear search in case binary search fails.\n",
    "        def linsearch(a, key, lower, upper):\n",
    "            for k in range(lower, upper):\n",
    "                if a(k) == key: return k\n",
    "            return 0\n",
    "            \n",
    "        entries = [e for e in self.index[runlumi] if e.type == self.melist[name]]\n",
    "        if not entries:\n",
    "            raise IndexError(\"No data found for this lumisection\")\n",
    "        for e in entries: # should be only one\n",
    "            metree = getattr(e.file, DQMIOReader.treenames[e.type])\n",
    "            metree.GetEntry(0)\n",
    "            metree.SetBranchStatus(\"*\",0)\n",
    "            metree.SetBranchStatus(\"FullName\",1)\n",
    "            # release GIL in long operations. Disable if it causes trouble.\n",
    "            metree.GetEntry._threaded = True\n",
    "            \n",
    "            def searchkey(fullname):\n",
    "                # split into dir and name, since that is how the DQMStore orders things.\n",
    "                return (\"/\".join(fullname.split(\"/\")[:-1]), fullname.split(\"/\")[-1])\n",
    "            def getentry(idx):\n",
    "                metree.GetEntry(idx)\n",
    "                return searchkey(str(metree.FullName))\n",
    "                \n",
    "            pos = binsearch(getentry, searchkey(name), e.firstidx, e.lastidx+1)\n",
    "            metree.GetEntry(pos, 1) # read full row\n",
    "            if str(metree.FullName) != name:\n",
    "                return None\n",
    "            value = metree.Value\n",
    "            value = extractdatafromROOT(value)\n",
    "            return MonitorElement(runlumi[0], runlumi[1], name, e.type, value)\n",
    "        \n",
    "    \"\"\"\n",
    "    Read MEs matching the given wildcard patterns from all lumis.\n",
    "    For rootobjects = True, return actual root objects, by default the histogram data is extracted into numpy arrays.\n",
    "    Returns a list of MonitorElement named tuples.\n",
    "    \"\"\"\n",
    "    def getMEs(self, *namepatterns):\n",
    "        # sum is list concat here.\n",
    "        return sum((self.getMEsForLumi(lumi, *namepatterns) for lumi in self.listLumis()), [])\n",
    "    \n",
    "    \"\"\"\n",
    "    Read a single ME with the given name from all lumis.\n",
    "    This can be much faster than getMEsForLumi when only few MEs are read per lumi. It really tries to be fast.\n",
    "    For rootobjects = True, return actual root objects, by default the histogram data is extracted into numpy arrays.\n",
    "    Returns a list of MonitorElement named tuples.\n",
    "    \"\"\"\n",
    "    def getSingleMEs(self, name, callback=None):\n",
    "        files = defaultdict(list)\n",
    "        ctr = [0]\n",
    "        for lumi in self.listLumis():\n",
    "            files[self.index[lumi][0].file.GetName()].append(lumi)\n",
    "        def readlumi(lumi):\n",
    "            l = self.getSingleMEForLumi(lumi, name)\n",
    "            if callback:\n",
    "                ctr[0] += 1\n",
    "                if ctr[0] % 10 == 0:\n",
    "                    callback(ctr[0])\n",
    "            return l\n",
    "        def readfile(f):\n",
    "            return [readlumi(lumi) for lumi in files[f]]\n",
    "        p = ThreadPool(NTHREADS)\n",
    "        result = p.map(readfile, files.keys())\n",
    "        p.close()\n",
    "        return sum(result, [])"
   ]
  },
  {
   "cell_type": "code",
   "execution_count": 4,
   "metadata": {},
   "outputs": [
    {
     "name": "stdout",
     "output_type": "stream",
     "text": [
      "CPU times: user 13.4 s, sys: 588 ms, total: 14 s\n",
      "Wall time: 13.8 s\n"
     ]
    }
   ],
   "source": [
    "# 3. Open all the files. Does not read (much) yet.\n",
    "from glob import glob\n",
    "%time r = DQMIOReader(*glob(DATAPATH + \"/*.root\"))"
   ]
  },
  {
   "cell_type": "code",
   "execution_count": 5,
   "metadata": {},
   "outputs": [
    {
     "data": {
      "text/plain": [
       "{'RPC/AllHits/Barrel/Wheel_-?/SummaryBySectors/Occupancy_Wheel_-?_Sector_?',\n",
       " 'RPC/AllHits/Barrel/Wheel_-?/SummaryBySectors/Occupancy_Wheel_-?_Sector_??',\n",
       " 'RPC/AllHits/Barrel/Wheel_-?/sector_?/station_?/BXDistribution_W-?_RB?++_S??',\n",
       " 'RPC/AllHits/Barrel/Wheel_-?/sector_?/station_?/BXDistribution_W-?_RB?+_S??',\n",
       " 'RPC/AllHits/Barrel/Wheel_-?/sector_?/station_?/BXDistribution_W-?_RB?--_S??',\n",
       " 'RPC/AllHits/Barrel/Wheel_-?/sector_?/station_?/BXDistribution_W-?_RB?-_S??',\n",
       " 'RPC/AllHits/Barrel/Wheel_-?/sector_?/station_?/BXDistribution_W-?_RB?_S??',\n",
       " 'RPC/AllHits/Barrel/Wheel_-?/sector_?/station_?/BXDistribution_W-?_RB?in_S??',\n",
       " 'RPC/AllHits/Barrel/Wheel_-?/sector_?/station_?/BXDistribution_W-?_RB?out_S??',\n",
       " 'RPC/AllHits/Barrel/Wheel_-?/sector_?/station_?/ClusterSize_W-?_RB?++_S??',\n",
       " 'RPC/AllHits/Barrel/Wheel_-?/sector_?/station_?/ClusterSize_W-?_RB?+_S??',\n",
       " 'RPC/AllHits/Barrel/Wheel_-?/sector_?/station_?/ClusterSize_W-?_RB?--_S??',\n",
       " 'RPC/AllHits/Barrel/Wheel_-?/sector_?/station_?/ClusterSize_W-?_RB?-_S??',\n",
       " 'RPC/AllHits/Barrel/Wheel_-?/sector_?/station_?/ClusterSize_W-?_RB?_S??',\n",
       " 'RPC/AllHits/Barrel/Wheel_-?/sector_?/station_?/ClusterSize_W-?_RB?in_S??',\n",
       " 'RPC/AllHits/Barrel/Wheel_-?/sector_?/station_?/ClusterSize_W-?_RB?out_S??',\n",
       " 'RPC/AllHits/Barrel/Wheel_-?/sector_?/station_?/Multiplicity_W-?_RB?++_S??',\n",
       " 'RPC/AllHits/Barrel/Wheel_-?/sector_?/station_?/Multiplicity_W-?_RB?+_S??',\n",
       " 'RPC/AllHits/Barrel/Wheel_-?/sector_?/station_?/Multiplicity_W-?_RB?--_S??',\n",
       " 'RPC/AllHits/Barrel/Wheel_-?/sector_?/station_?/Multiplicity_W-?_RB?-_S??',\n",
       " 'RPC/AllHits/Barrel/Wheel_-?/sector_?/station_?/Multiplicity_W-?_RB?_S??',\n",
       " 'RPC/AllHits/Barrel/Wheel_-?/sector_?/station_?/Multiplicity_W-?_RB?in_S??',\n",
       " 'RPC/AllHits/Barrel/Wheel_-?/sector_?/station_?/Multiplicity_W-?_RB?out_S??',\n",
       " 'RPC/AllHits/Barrel/Wheel_-?/sector_?/station_?/NumberOfClusters_W-?_RB?++_S??',\n",
       " 'RPC/AllHits/Barrel/Wheel_-?/sector_?/station_?/NumberOfClusters_W-?_RB?+_S??',\n",
       " 'RPC/AllHits/Barrel/Wheel_-?/sector_?/station_?/NumberOfClusters_W-?_RB?--_S??',\n",
       " 'RPC/AllHits/Barrel/Wheel_-?/sector_?/station_?/NumberOfClusters_W-?_RB?-_S??',\n",
       " 'RPC/AllHits/Barrel/Wheel_-?/sector_?/station_?/NumberOfClusters_W-?_RB?_S??',\n",
       " 'RPC/AllHits/Barrel/Wheel_-?/sector_?/station_?/NumberOfClusters_W-?_RB?in_S??',\n",
       " 'RPC/AllHits/Barrel/Wheel_-?/sector_?/station_?/NumberOfClusters_W-?_RB?out_S??',\n",
       " 'RPC/AllHits/Barrel/Wheel_-?/sector_?/station_?/Occupancy_W-?_RB?++_S??',\n",
       " 'RPC/AllHits/Barrel/Wheel_-?/sector_?/station_?/Occupancy_W-?_RB?+_S??',\n",
       " 'RPC/AllHits/Barrel/Wheel_-?/sector_?/station_?/Occupancy_W-?_RB?--_S??',\n",
       " 'RPC/AllHits/Barrel/Wheel_-?/sector_?/station_?/Occupancy_W-?_RB?-_S??',\n",
       " 'RPC/AllHits/Barrel/Wheel_-?/sector_?/station_?/Occupancy_W-?_RB?_S??',\n",
       " 'RPC/AllHits/Barrel/Wheel_-?/sector_?/station_?/Occupancy_W-?_RB?in_S??',\n",
       " 'RPC/AllHits/Barrel/Wheel_-?/sector_?/station_?/Occupancy_W-?_RB?out_S??',\n",
       " 'RPC/AllHits/Barrel/Wheel_-?/sector_??/station_?/BXDistribution_W-?_RB?+_S??',\n",
       " 'RPC/AllHits/Barrel/Wheel_-?/sector_??/station_?/BXDistribution_W-?_RB?-_S??',\n",
       " 'RPC/AllHits/Barrel/Wheel_-?/sector_??/station_?/BXDistribution_W-?_RB?_S??',\n",
       " 'RPC/AllHits/Barrel/Wheel_-?/sector_??/station_?/BXDistribution_W-?_RB?in_S??',\n",
       " 'RPC/AllHits/Barrel/Wheel_-?/sector_??/station_?/BXDistribution_W-?_RB?out_S??',\n",
       " 'RPC/AllHits/Barrel/Wheel_-?/sector_??/station_?/ClusterSize_W-?_RB?+_S??',\n",
       " 'RPC/AllHits/Barrel/Wheel_-?/sector_??/station_?/ClusterSize_W-?_RB?-_S??',\n",
       " 'RPC/AllHits/Barrel/Wheel_-?/sector_??/station_?/ClusterSize_W-?_RB?_S??',\n",
       " 'RPC/AllHits/Barrel/Wheel_-?/sector_??/station_?/ClusterSize_W-?_RB?in_S??',\n",
       " 'RPC/AllHits/Barrel/Wheel_-?/sector_??/station_?/ClusterSize_W-?_RB?out_S??',\n",
       " 'RPC/AllHits/Barrel/Wheel_-?/sector_??/station_?/Multiplicity_W-?_RB?+_S??',\n",
       " 'RPC/AllHits/Barrel/Wheel_-?/sector_??/station_?/Multiplicity_W-?_RB?-_S??',\n",
       " 'RPC/AllHits/Barrel/Wheel_-?/sector_??/station_?/Multiplicity_W-?_RB?_S??',\n",
       " 'RPC/AllHits/Barrel/Wheel_-?/sector_??/station_?/Multiplicity_W-?_RB?in_S??',\n",
       " 'RPC/AllHits/Barrel/Wheel_-?/sector_??/station_?/Multiplicity_W-?_RB?out_S??',\n",
       " 'RPC/AllHits/Barrel/Wheel_-?/sector_??/station_?/NumberOfClusters_W-?_RB?+_S??',\n",
       " 'RPC/AllHits/Barrel/Wheel_-?/sector_??/station_?/NumberOfClusters_W-?_RB?-_S??',\n",
       " 'RPC/AllHits/Barrel/Wheel_-?/sector_??/station_?/NumberOfClusters_W-?_RB?_S??',\n",
       " 'RPC/AllHits/Barrel/Wheel_-?/sector_??/station_?/NumberOfClusters_W-?_RB?in_S??',\n",
       " 'RPC/AllHits/Barrel/Wheel_-?/sector_??/station_?/NumberOfClusters_W-?_RB?out_S??',\n",
       " 'RPC/AllHits/Barrel/Wheel_-?/sector_??/station_?/Occupancy_W-?_RB?+_S??',\n",
       " 'RPC/AllHits/Barrel/Wheel_-?/sector_??/station_?/Occupancy_W-?_RB?-_S??',\n",
       " 'RPC/AllHits/Barrel/Wheel_-?/sector_??/station_?/Occupancy_W-?_RB?_S??',\n",
       " 'RPC/AllHits/Barrel/Wheel_-?/sector_??/station_?/Occupancy_W-?_RB?in_S??',\n",
       " 'RPC/AllHits/Barrel/Wheel_-?/sector_??/station_?/Occupancy_W-?_RB?out_S??',\n",
       " 'RPC/AllHits/Barrel/Wheel_?/SummaryBySectors/Occupancy_Wheel_?_Sector_?',\n",
       " 'RPC/AllHits/Barrel/Wheel_?/SummaryBySectors/Occupancy_Wheel_?_Sector_??',\n",
       " 'RPC/AllHits/Barrel/Wheel_?/sector_?/station_?/BXDistribution_W+?_RB?++_S??',\n",
       " 'RPC/AllHits/Barrel/Wheel_?/sector_?/station_?/BXDistribution_W+?_RB?+_S??',\n",
       " 'RPC/AllHits/Barrel/Wheel_?/sector_?/station_?/BXDistribution_W+?_RB?--_S??',\n",
       " 'RPC/AllHits/Barrel/Wheel_?/sector_?/station_?/BXDistribution_W+?_RB?-_S??',\n",
       " 'RPC/AllHits/Barrel/Wheel_?/sector_?/station_?/BXDistribution_W+?_RB?_S??',\n",
       " 'RPC/AllHits/Barrel/Wheel_?/sector_?/station_?/BXDistribution_W+?_RB?in_S??',\n",
       " 'RPC/AllHits/Barrel/Wheel_?/sector_?/station_?/BXDistribution_W+?_RB?out_S??',\n",
       " 'RPC/AllHits/Barrel/Wheel_?/sector_?/station_?/ClusterSize_W+?_RB?++_S??',\n",
       " 'RPC/AllHits/Barrel/Wheel_?/sector_?/station_?/ClusterSize_W+?_RB?+_S??',\n",
       " 'RPC/AllHits/Barrel/Wheel_?/sector_?/station_?/ClusterSize_W+?_RB?--_S??',\n",
       " 'RPC/AllHits/Barrel/Wheel_?/sector_?/station_?/ClusterSize_W+?_RB?-_S??',\n",
       " 'RPC/AllHits/Barrel/Wheel_?/sector_?/station_?/ClusterSize_W+?_RB?_S??',\n",
       " 'RPC/AllHits/Barrel/Wheel_?/sector_?/station_?/ClusterSize_W+?_RB?in_S??',\n",
       " 'RPC/AllHits/Barrel/Wheel_?/sector_?/station_?/ClusterSize_W+?_RB?out_S??',\n",
       " 'RPC/AllHits/Barrel/Wheel_?/sector_?/station_?/Multiplicity_W+?_RB?++_S??',\n",
       " 'RPC/AllHits/Barrel/Wheel_?/sector_?/station_?/Multiplicity_W+?_RB?+_S??',\n",
       " 'RPC/AllHits/Barrel/Wheel_?/sector_?/station_?/Multiplicity_W+?_RB?--_S??',\n",
       " 'RPC/AllHits/Barrel/Wheel_?/sector_?/station_?/Multiplicity_W+?_RB?-_S??',\n",
       " 'RPC/AllHits/Barrel/Wheel_?/sector_?/station_?/Multiplicity_W+?_RB?_S??',\n",
       " 'RPC/AllHits/Barrel/Wheel_?/sector_?/station_?/Multiplicity_W+?_RB?in_S??',\n",
       " 'RPC/AllHits/Barrel/Wheel_?/sector_?/station_?/Multiplicity_W+?_RB?out_S??',\n",
       " 'RPC/AllHits/Barrel/Wheel_?/sector_?/station_?/NumberOfClusters_W+?_RB?++_S??',\n",
       " 'RPC/AllHits/Barrel/Wheel_?/sector_?/station_?/NumberOfClusters_W+?_RB?+_S??',\n",
       " 'RPC/AllHits/Barrel/Wheel_?/sector_?/station_?/NumberOfClusters_W+?_RB?--_S??',\n",
       " 'RPC/AllHits/Barrel/Wheel_?/sector_?/station_?/NumberOfClusters_W+?_RB?-_S??',\n",
       " 'RPC/AllHits/Barrel/Wheel_?/sector_?/station_?/NumberOfClusters_W+?_RB?_S??',\n",
       " 'RPC/AllHits/Barrel/Wheel_?/sector_?/station_?/NumberOfClusters_W+?_RB?in_S??',\n",
       " 'RPC/AllHits/Barrel/Wheel_?/sector_?/station_?/NumberOfClusters_W+?_RB?out_S??',\n",
       " 'RPC/AllHits/Barrel/Wheel_?/sector_?/station_?/Occupancy_W+?_RB?++_S??',\n",
       " 'RPC/AllHits/Barrel/Wheel_?/sector_?/station_?/Occupancy_W+?_RB?+_S??',\n",
       " 'RPC/AllHits/Barrel/Wheel_?/sector_?/station_?/Occupancy_W+?_RB?--_S??',\n",
       " 'RPC/AllHits/Barrel/Wheel_?/sector_?/station_?/Occupancy_W+?_RB?-_S??',\n",
       " 'RPC/AllHits/Barrel/Wheel_?/sector_?/station_?/Occupancy_W+?_RB?_S??',\n",
       " 'RPC/AllHits/Barrel/Wheel_?/sector_?/station_?/Occupancy_W+?_RB?in_S??',\n",
       " 'RPC/AllHits/Barrel/Wheel_?/sector_?/station_?/Occupancy_W+?_RB?out_S??',\n",
       " 'RPC/AllHits/Barrel/Wheel_?/sector_??/station_?/BXDistribution_W+?_RB?+_S??',\n",
       " 'RPC/AllHits/Barrel/Wheel_?/sector_??/station_?/BXDistribution_W+?_RB?-_S??',\n",
       " 'RPC/AllHits/Barrel/Wheel_?/sector_??/station_?/BXDistribution_W+?_RB?_S??',\n",
       " 'RPC/AllHits/Barrel/Wheel_?/sector_??/station_?/BXDistribution_W+?_RB?in_S??',\n",
       " 'RPC/AllHits/Barrel/Wheel_?/sector_??/station_?/BXDistribution_W+?_RB?out_S??',\n",
       " 'RPC/AllHits/Barrel/Wheel_?/sector_??/station_?/ClusterSize_W+?_RB?+_S??',\n",
       " 'RPC/AllHits/Barrel/Wheel_?/sector_??/station_?/ClusterSize_W+?_RB?-_S??',\n",
       " 'RPC/AllHits/Barrel/Wheel_?/sector_??/station_?/ClusterSize_W+?_RB?_S??',\n",
       " 'RPC/AllHits/Barrel/Wheel_?/sector_??/station_?/ClusterSize_W+?_RB?in_S??',\n",
       " 'RPC/AllHits/Barrel/Wheel_?/sector_??/station_?/ClusterSize_W+?_RB?out_S??',\n",
       " 'RPC/AllHits/Barrel/Wheel_?/sector_??/station_?/Multiplicity_W+?_RB?+_S??',\n",
       " 'RPC/AllHits/Barrel/Wheel_?/sector_??/station_?/Multiplicity_W+?_RB?-_S??',\n",
       " 'RPC/AllHits/Barrel/Wheel_?/sector_??/station_?/Multiplicity_W+?_RB?_S??',\n",
       " 'RPC/AllHits/Barrel/Wheel_?/sector_??/station_?/Multiplicity_W+?_RB?in_S??',\n",
       " 'RPC/AllHits/Barrel/Wheel_?/sector_??/station_?/Multiplicity_W+?_RB?out_S??',\n",
       " 'RPC/AllHits/Barrel/Wheel_?/sector_??/station_?/NumberOfClusters_W+?_RB?+_S??',\n",
       " 'RPC/AllHits/Barrel/Wheel_?/sector_??/station_?/NumberOfClusters_W+?_RB?-_S??',\n",
       " 'RPC/AllHits/Barrel/Wheel_?/sector_??/station_?/NumberOfClusters_W+?_RB?_S??',\n",
       " 'RPC/AllHits/Barrel/Wheel_?/sector_??/station_?/NumberOfClusters_W+?_RB?in_S??',\n",
       " 'RPC/AllHits/Barrel/Wheel_?/sector_??/station_?/NumberOfClusters_W+?_RB?out_S??',\n",
       " 'RPC/AllHits/Barrel/Wheel_?/sector_??/station_?/Occupancy_W+?_RB?+_S??',\n",
       " 'RPC/AllHits/Barrel/Wheel_?/sector_??/station_?/Occupancy_W+?_RB?-_S??',\n",
       " 'RPC/AllHits/Barrel/Wheel_?/sector_??/station_?/Occupancy_W+?_RB?_S??',\n",
       " 'RPC/AllHits/Barrel/Wheel_?/sector_??/station_?/Occupancy_W+?_RB?in_S??',\n",
       " 'RPC/AllHits/Barrel/Wheel_?/sector_??/station_?/Occupancy_W+?_RB?out_S??',\n",
       " 'RPC/AllHits/Endcap+/Disk_?/SummaryByRings/Occupancy_Disk_?_Ring_?_CH??-CH??',\n",
       " 'RPC/AllHits/Endcap+/Disk_?/ring_?/sector_?/BXDistribution_RE+?_R?_CH??',\n",
       " 'RPC/AllHits/Endcap+/Disk_?/ring_?/sector_?/ClusterSize_RE+?_R?_CH??',\n",
       " 'RPC/AllHits/Endcap+/Disk_?/ring_?/sector_?/Multiplicity_RE+?_R?_CH??',\n",
       " 'RPC/AllHits/Endcap+/Disk_?/ring_?/sector_?/NumberOfClusters_RE+?_R?_CH??',\n",
       " 'RPC/AllHits/Endcap+/Disk_?/ring_?/sector_?/Occupancy_RE+?_R?_CH??',\n",
       " 'RPC/AllHits/Endcap-/Disk_-?/SummaryByRings/Occupancy_Disk_-?_Ring_?_CH??-CH??',\n",
       " 'RPC/AllHits/Endcap-/Disk_-?/ring_?/sector_?/BXDistribution_RE-?_R?_CH??',\n",
       " 'RPC/AllHits/Endcap-/Disk_-?/ring_?/sector_?/ClusterSize_RE-?_R?_CH??',\n",
       " 'RPC/AllHits/Endcap-/Disk_-?/ring_?/sector_?/Multiplicity_RE-?_R?_CH??',\n",
       " 'RPC/AllHits/Endcap-/Disk_-?/ring_?/sector_?/NumberOfClusters_RE-?_R?_CH??',\n",
       " 'RPC/AllHits/Endcap-/Disk_-?/ring_?/sector_?/Occupancy_RE-?_R?_CH??',\n",
       " 'RPC/AllHits/RPCEvents',\n",
       " 'RPC/AllHits/SummaryHistograms/?DOccupancy_Ring_?',\n",
       " 'RPC/AllHits/SummaryHistograms/?DOccupancy_Wheel_-?',\n",
       " 'RPC/AllHits/SummaryHistograms/?DOccupancy_Wheel_?',\n",
       " 'RPC/AllHits/SummaryHistograms/BxDistribution_Disk_-?',\n",
       " 'RPC/AllHits/SummaryHistograms/BxDistribution_Disk_?',\n",
       " 'RPC/AllHits/SummaryHistograms/BxDistribution_Wheel_-?',\n",
       " 'RPC/AllHits/SummaryHistograms/BxDistribution_Wheel_?',\n",
       " 'RPC/AllHits/SummaryHistograms/ClusterSize_Barrel',\n",
       " 'RPC/AllHits/SummaryHistograms/ClusterSize_Disk_-?_Ring?',\n",
       " 'RPC/AllHits/SummaryHistograms/ClusterSize_Disk_?_Ring?',\n",
       " 'RPC/AllHits/SummaryHistograms/ClusterSize_Endcap+',\n",
       " 'RPC/AllHits/SummaryHistograms/ClusterSize_Endcap-',\n",
       " 'RPC/AllHits/SummaryHistograms/ClusterSize_Layer?',\n",
       " 'RPC/AllHits/SummaryHistograms/ClusterSize_Ring?',\n",
       " 'RPC/AllHits/SummaryHistograms/ClusterSize_Wheel_-?_Layer?',\n",
       " 'RPC/AllHits/SummaryHistograms/ClusterSize_Wheel_?_Layer?',\n",
       " 'RPC/AllHits/SummaryHistograms/Multiplicity_Barrel',\n",
       " 'RPC/AllHits/SummaryHistograms/Multiplicity_Endcap+',\n",
       " 'RPC/AllHits/SummaryHistograms/Multiplicity_Endcap-',\n",
       " 'RPC/AllHits/SummaryHistograms/NumberOfClusters_Barrel',\n",
       " 'RPC/AllHits/SummaryHistograms/NumberOfClusters_Endcap+',\n",
       " 'RPC/AllHits/SummaryHistograms/NumberOfClusters_Endcap-',\n",
       " 'RPC/AllHits/SummaryHistograms/Occupancy_Ring_vs_Segment_Disk_-?',\n",
       " 'RPC/AllHits/SummaryHistograms/Occupancy_Ring_vs_Segment_Disk_?',\n",
       " 'RPC/AllHits/SummaryHistograms/Occupancy_Roll_vs_Sector_Wheel_-?',\n",
       " 'RPC/AllHits/SummaryHistograms/Occupancy_Roll_vs_Sector_Wheel_?',\n",
       " 'RPC/AllHits/SummaryHistograms/Occupancy_for_Barrel',\n",
       " 'RPC/AllHits/SummaryHistograms/Occupancy_for_Endcap',\n",
       " 'RPC/DCSInfo/DCSbyLS',\n",
       " 'RPC/FEDIntegrity/FEDEntries',\n",
       " 'RPC/FEDIntegrity/FEDFatal',\n",
       " 'RPC/FEDIntegrity/FEDNonFatal',\n",
       " 'RPC/Muon/Barrel/Wheel_-?/SummaryBySectors/Occupancy_Wheel_-?_Sector_?',\n",
       " 'RPC/Muon/Barrel/Wheel_-?/SummaryBySectors/Occupancy_Wheel_-?_Sector_??',\n",
       " 'RPC/Muon/Barrel/Wheel_-?/sector_?/station_?/BXDistribution_W-?_RB?++_S??',\n",
       " 'RPC/Muon/Barrel/Wheel_-?/sector_?/station_?/BXDistribution_W-?_RB?+_S??',\n",
       " 'RPC/Muon/Barrel/Wheel_-?/sector_?/station_?/BXDistribution_W-?_RB?--_S??',\n",
       " 'RPC/Muon/Barrel/Wheel_-?/sector_?/station_?/BXDistribution_W-?_RB?-_S??',\n",
       " 'RPC/Muon/Barrel/Wheel_-?/sector_?/station_?/BXDistribution_W-?_RB?_S??',\n",
       " 'RPC/Muon/Barrel/Wheel_-?/sector_?/station_?/BXDistribution_W-?_RB?in_S??',\n",
       " 'RPC/Muon/Barrel/Wheel_-?/sector_?/station_?/BXDistribution_W-?_RB?out_S??',\n",
       " 'RPC/Muon/Barrel/Wheel_-?/sector_?/station_?/ClusterSize_W-?_RB?++_S??',\n",
       " 'RPC/Muon/Barrel/Wheel_-?/sector_?/station_?/ClusterSize_W-?_RB?+_S??',\n",
       " 'RPC/Muon/Barrel/Wheel_-?/sector_?/station_?/ClusterSize_W-?_RB?--_S??',\n",
       " 'RPC/Muon/Barrel/Wheel_-?/sector_?/station_?/ClusterSize_W-?_RB?-_S??',\n",
       " 'RPC/Muon/Barrel/Wheel_-?/sector_?/station_?/ClusterSize_W-?_RB?_S??',\n",
       " 'RPC/Muon/Barrel/Wheel_-?/sector_?/station_?/ClusterSize_W-?_RB?in_S??',\n",
       " 'RPC/Muon/Barrel/Wheel_-?/sector_?/station_?/ClusterSize_W-?_RB?out_S??',\n",
       " 'RPC/Muon/Barrel/Wheel_-?/sector_?/station_?/Multiplicity_W-?_RB?++_S??',\n",
       " 'RPC/Muon/Barrel/Wheel_-?/sector_?/station_?/Multiplicity_W-?_RB?+_S??',\n",
       " 'RPC/Muon/Barrel/Wheel_-?/sector_?/station_?/Multiplicity_W-?_RB?--_S??',\n",
       " 'RPC/Muon/Barrel/Wheel_-?/sector_?/station_?/Multiplicity_W-?_RB?-_S??',\n",
       " 'RPC/Muon/Barrel/Wheel_-?/sector_?/station_?/Multiplicity_W-?_RB?_S??',\n",
       " 'RPC/Muon/Barrel/Wheel_-?/sector_?/station_?/Multiplicity_W-?_RB?in_S??',\n",
       " 'RPC/Muon/Barrel/Wheel_-?/sector_?/station_?/Multiplicity_W-?_RB?out_S??',\n",
       " 'RPC/Muon/Barrel/Wheel_-?/sector_?/station_?/NumberOfClusters_W-?_RB?++_S??',\n",
       " 'RPC/Muon/Barrel/Wheel_-?/sector_?/station_?/NumberOfClusters_W-?_RB?+_S??',\n",
       " 'RPC/Muon/Barrel/Wheel_-?/sector_?/station_?/NumberOfClusters_W-?_RB?--_S??',\n",
       " 'RPC/Muon/Barrel/Wheel_-?/sector_?/station_?/NumberOfClusters_W-?_RB?-_S??',\n",
       " 'RPC/Muon/Barrel/Wheel_-?/sector_?/station_?/NumberOfClusters_W-?_RB?_S??',\n",
       " 'RPC/Muon/Barrel/Wheel_-?/sector_?/station_?/NumberOfClusters_W-?_RB?in_S??',\n",
       " 'RPC/Muon/Barrel/Wheel_-?/sector_?/station_?/NumberOfClusters_W-?_RB?out_S??',\n",
       " 'RPC/Muon/Barrel/Wheel_-?/sector_?/station_?/Occupancy_W-?_RB?++_S??',\n",
       " 'RPC/Muon/Barrel/Wheel_-?/sector_?/station_?/Occupancy_W-?_RB?+_S??',\n",
       " 'RPC/Muon/Barrel/Wheel_-?/sector_?/station_?/Occupancy_W-?_RB?--_S??',\n",
       " 'RPC/Muon/Barrel/Wheel_-?/sector_?/station_?/Occupancy_W-?_RB?-_S??',\n",
       " 'RPC/Muon/Barrel/Wheel_-?/sector_?/station_?/Occupancy_W-?_RB?_S??',\n",
       " 'RPC/Muon/Barrel/Wheel_-?/sector_?/station_?/Occupancy_W-?_RB?in_S??',\n",
       " 'RPC/Muon/Barrel/Wheel_-?/sector_?/station_?/Occupancy_W-?_RB?out_S??',\n",
       " 'RPC/Muon/Barrel/Wheel_-?/sector_??/station_?/BXDistribution_W-?_RB?+_S??',\n",
       " 'RPC/Muon/Barrel/Wheel_-?/sector_??/station_?/BXDistribution_W-?_RB?-_S??',\n",
       " 'RPC/Muon/Barrel/Wheel_-?/sector_??/station_?/BXDistribution_W-?_RB?_S??',\n",
       " 'RPC/Muon/Barrel/Wheel_-?/sector_??/station_?/BXDistribution_W-?_RB?in_S??',\n",
       " 'RPC/Muon/Barrel/Wheel_-?/sector_??/station_?/BXDistribution_W-?_RB?out_S??',\n",
       " 'RPC/Muon/Barrel/Wheel_-?/sector_??/station_?/ClusterSize_W-?_RB?+_S??',\n",
       " 'RPC/Muon/Barrel/Wheel_-?/sector_??/station_?/ClusterSize_W-?_RB?-_S??',\n",
       " 'RPC/Muon/Barrel/Wheel_-?/sector_??/station_?/ClusterSize_W-?_RB?_S??',\n",
       " 'RPC/Muon/Barrel/Wheel_-?/sector_??/station_?/ClusterSize_W-?_RB?in_S??',\n",
       " 'RPC/Muon/Barrel/Wheel_-?/sector_??/station_?/ClusterSize_W-?_RB?out_S??',\n",
       " 'RPC/Muon/Barrel/Wheel_-?/sector_??/station_?/Multiplicity_W-?_RB?+_S??',\n",
       " 'RPC/Muon/Barrel/Wheel_-?/sector_??/station_?/Multiplicity_W-?_RB?-_S??',\n",
       " 'RPC/Muon/Barrel/Wheel_-?/sector_??/station_?/Multiplicity_W-?_RB?_S??',\n",
       " 'RPC/Muon/Barrel/Wheel_-?/sector_??/station_?/Multiplicity_W-?_RB?in_S??',\n",
       " 'RPC/Muon/Barrel/Wheel_-?/sector_??/station_?/Multiplicity_W-?_RB?out_S??',\n",
       " 'RPC/Muon/Barrel/Wheel_-?/sector_??/station_?/NumberOfClusters_W-?_RB?+_S??',\n",
       " 'RPC/Muon/Barrel/Wheel_-?/sector_??/station_?/NumberOfClusters_W-?_RB?-_S??',\n",
       " 'RPC/Muon/Barrel/Wheel_-?/sector_??/station_?/NumberOfClusters_W-?_RB?_S??',\n",
       " 'RPC/Muon/Barrel/Wheel_-?/sector_??/station_?/NumberOfClusters_W-?_RB?in_S??',\n",
       " 'RPC/Muon/Barrel/Wheel_-?/sector_??/station_?/NumberOfClusters_W-?_RB?out_S??',\n",
       " 'RPC/Muon/Barrel/Wheel_-?/sector_??/station_?/Occupancy_W-?_RB?+_S??',\n",
       " 'RPC/Muon/Barrel/Wheel_-?/sector_??/station_?/Occupancy_W-?_RB?-_S??',\n",
       " 'RPC/Muon/Barrel/Wheel_-?/sector_??/station_?/Occupancy_W-?_RB?_S??',\n",
       " 'RPC/Muon/Barrel/Wheel_-?/sector_??/station_?/Occupancy_W-?_RB?in_S??',\n",
       " 'RPC/Muon/Barrel/Wheel_-?/sector_??/station_?/Occupancy_W-?_RB?out_S??',\n",
       " 'RPC/Muon/Barrel/Wheel_?/SummaryBySectors/Occupancy_Wheel_?_Sector_?',\n",
       " 'RPC/Muon/Barrel/Wheel_?/SummaryBySectors/Occupancy_Wheel_?_Sector_??',\n",
       " 'RPC/Muon/Barrel/Wheel_?/sector_?/station_?/BXDistribution_W+?_RB?++_S??',\n",
       " 'RPC/Muon/Barrel/Wheel_?/sector_?/station_?/BXDistribution_W+?_RB?+_S??',\n",
       " 'RPC/Muon/Barrel/Wheel_?/sector_?/station_?/BXDistribution_W+?_RB?--_S??',\n",
       " 'RPC/Muon/Barrel/Wheel_?/sector_?/station_?/BXDistribution_W+?_RB?-_S??',\n",
       " 'RPC/Muon/Barrel/Wheel_?/sector_?/station_?/BXDistribution_W+?_RB?_S??',\n",
       " 'RPC/Muon/Barrel/Wheel_?/sector_?/station_?/BXDistribution_W+?_RB?in_S??',\n",
       " 'RPC/Muon/Barrel/Wheel_?/sector_?/station_?/BXDistribution_W+?_RB?out_S??',\n",
       " 'RPC/Muon/Barrel/Wheel_?/sector_?/station_?/ClusterSize_W+?_RB?++_S??',\n",
       " 'RPC/Muon/Barrel/Wheel_?/sector_?/station_?/ClusterSize_W+?_RB?+_S??',\n",
       " 'RPC/Muon/Barrel/Wheel_?/sector_?/station_?/ClusterSize_W+?_RB?--_S??',\n",
       " 'RPC/Muon/Barrel/Wheel_?/sector_?/station_?/ClusterSize_W+?_RB?-_S??',\n",
       " 'RPC/Muon/Barrel/Wheel_?/sector_?/station_?/ClusterSize_W+?_RB?_S??',\n",
       " 'RPC/Muon/Barrel/Wheel_?/sector_?/station_?/ClusterSize_W+?_RB?in_S??',\n",
       " 'RPC/Muon/Barrel/Wheel_?/sector_?/station_?/ClusterSize_W+?_RB?out_S??',\n",
       " 'RPC/Muon/Barrel/Wheel_?/sector_?/station_?/Multiplicity_W+?_RB?++_S??',\n",
       " 'RPC/Muon/Barrel/Wheel_?/sector_?/station_?/Multiplicity_W+?_RB?+_S??',\n",
       " 'RPC/Muon/Barrel/Wheel_?/sector_?/station_?/Multiplicity_W+?_RB?--_S??',\n",
       " 'RPC/Muon/Barrel/Wheel_?/sector_?/station_?/Multiplicity_W+?_RB?-_S??',\n",
       " 'RPC/Muon/Barrel/Wheel_?/sector_?/station_?/Multiplicity_W+?_RB?_S??',\n",
       " 'RPC/Muon/Barrel/Wheel_?/sector_?/station_?/Multiplicity_W+?_RB?in_S??',\n",
       " 'RPC/Muon/Barrel/Wheel_?/sector_?/station_?/Multiplicity_W+?_RB?out_S??',\n",
       " 'RPC/Muon/Barrel/Wheel_?/sector_?/station_?/NumberOfClusters_W+?_RB?++_S??',\n",
       " 'RPC/Muon/Barrel/Wheel_?/sector_?/station_?/NumberOfClusters_W+?_RB?+_S??',\n",
       " 'RPC/Muon/Barrel/Wheel_?/sector_?/station_?/NumberOfClusters_W+?_RB?--_S??',\n",
       " 'RPC/Muon/Barrel/Wheel_?/sector_?/station_?/NumberOfClusters_W+?_RB?-_S??',\n",
       " 'RPC/Muon/Barrel/Wheel_?/sector_?/station_?/NumberOfClusters_W+?_RB?_S??',\n",
       " 'RPC/Muon/Barrel/Wheel_?/sector_?/station_?/NumberOfClusters_W+?_RB?in_S??',\n",
       " 'RPC/Muon/Barrel/Wheel_?/sector_?/station_?/NumberOfClusters_W+?_RB?out_S??',\n",
       " 'RPC/Muon/Barrel/Wheel_?/sector_?/station_?/Occupancy_W+?_RB?++_S??',\n",
       " 'RPC/Muon/Barrel/Wheel_?/sector_?/station_?/Occupancy_W+?_RB?+_S??',\n",
       " 'RPC/Muon/Barrel/Wheel_?/sector_?/station_?/Occupancy_W+?_RB?--_S??',\n",
       " 'RPC/Muon/Barrel/Wheel_?/sector_?/station_?/Occupancy_W+?_RB?-_S??',\n",
       " 'RPC/Muon/Barrel/Wheel_?/sector_?/station_?/Occupancy_W+?_RB?_S??',\n",
       " 'RPC/Muon/Barrel/Wheel_?/sector_?/station_?/Occupancy_W+?_RB?in_S??',\n",
       " 'RPC/Muon/Barrel/Wheel_?/sector_?/station_?/Occupancy_W+?_RB?out_S??',\n",
       " 'RPC/Muon/Barrel/Wheel_?/sector_??/station_?/BXDistribution_W+?_RB?+_S??',\n",
       " 'RPC/Muon/Barrel/Wheel_?/sector_??/station_?/BXDistribution_W+?_RB?-_S??',\n",
       " 'RPC/Muon/Barrel/Wheel_?/sector_??/station_?/BXDistribution_W+?_RB?_S??',\n",
       " 'RPC/Muon/Barrel/Wheel_?/sector_??/station_?/BXDistribution_W+?_RB?in_S??',\n",
       " 'RPC/Muon/Barrel/Wheel_?/sector_??/station_?/BXDistribution_W+?_RB?out_S??',\n",
       " 'RPC/Muon/Barrel/Wheel_?/sector_??/station_?/ClusterSize_W+?_RB?+_S??',\n",
       " 'RPC/Muon/Barrel/Wheel_?/sector_??/station_?/ClusterSize_W+?_RB?-_S??',\n",
       " 'RPC/Muon/Barrel/Wheel_?/sector_??/station_?/ClusterSize_W+?_RB?_S??',\n",
       " 'RPC/Muon/Barrel/Wheel_?/sector_??/station_?/ClusterSize_W+?_RB?in_S??',\n",
       " 'RPC/Muon/Barrel/Wheel_?/sector_??/station_?/ClusterSize_W+?_RB?out_S??',\n",
       " 'RPC/Muon/Barrel/Wheel_?/sector_??/station_?/Multiplicity_W+?_RB?+_S??',\n",
       " 'RPC/Muon/Barrel/Wheel_?/sector_??/station_?/Multiplicity_W+?_RB?-_S??',\n",
       " 'RPC/Muon/Barrel/Wheel_?/sector_??/station_?/Multiplicity_W+?_RB?_S??',\n",
       " 'RPC/Muon/Barrel/Wheel_?/sector_??/station_?/Multiplicity_W+?_RB?in_S??',\n",
       " 'RPC/Muon/Barrel/Wheel_?/sector_??/station_?/Multiplicity_W+?_RB?out_S??',\n",
       " 'RPC/Muon/Barrel/Wheel_?/sector_??/station_?/NumberOfClusters_W+?_RB?+_S??',\n",
       " 'RPC/Muon/Barrel/Wheel_?/sector_??/station_?/NumberOfClusters_W+?_RB?-_S??',\n",
       " 'RPC/Muon/Barrel/Wheel_?/sector_??/station_?/NumberOfClusters_W+?_RB?_S??',\n",
       " 'RPC/Muon/Barrel/Wheel_?/sector_??/station_?/NumberOfClusters_W+?_RB?in_S??',\n",
       " 'RPC/Muon/Barrel/Wheel_?/sector_??/station_?/NumberOfClusters_W+?_RB?out_S??',\n",
       " 'RPC/Muon/Barrel/Wheel_?/sector_??/station_?/Occupancy_W+?_RB?+_S??',\n",
       " 'RPC/Muon/Barrel/Wheel_?/sector_??/station_?/Occupancy_W+?_RB?-_S??',\n",
       " 'RPC/Muon/Barrel/Wheel_?/sector_??/station_?/Occupancy_W+?_RB?_S??',\n",
       " 'RPC/Muon/Barrel/Wheel_?/sector_??/station_?/Occupancy_W+?_RB?in_S??',\n",
       " 'RPC/Muon/Barrel/Wheel_?/sector_??/station_?/Occupancy_W+?_RB?out_S??',\n",
       " 'RPC/Muon/Endcap+/Disk_?/SummaryByRings/Occupancy_Disk_?_Ring_?_CH??-CH??',\n",
       " 'RPC/Muon/Endcap+/Disk_?/ring_?/sector_?/BXDistribution_RE+?_R?_CH??',\n",
       " 'RPC/Muon/Endcap+/Disk_?/ring_?/sector_?/ClusterSize_RE+?_R?_CH??',\n",
       " 'RPC/Muon/Endcap+/Disk_?/ring_?/sector_?/Multiplicity_RE+?_R?_CH??',\n",
       " 'RPC/Muon/Endcap+/Disk_?/ring_?/sector_?/NumberOfClusters_RE+?_R?_CH??',\n",
       " 'RPC/Muon/Endcap+/Disk_?/ring_?/sector_?/Occupancy_RE+?_R?_CH??',\n",
       " 'RPC/Muon/Endcap-/Disk_-?/SummaryByRings/Occupancy_Disk_-?_Ring_?_CH??-CH??',\n",
       " 'RPC/Muon/Endcap-/Disk_-?/ring_?/sector_?/BXDistribution_RE-?_R?_CH??',\n",
       " 'RPC/Muon/Endcap-/Disk_-?/ring_?/sector_?/ClusterSize_RE-?_R?_CH??',\n",
       " 'RPC/Muon/Endcap-/Disk_-?/ring_?/sector_?/Multiplicity_RE-?_R?_CH??',\n",
       " 'RPC/Muon/Endcap-/Disk_-?/ring_?/sector_?/NumberOfClusters_RE-?_R?_CH??',\n",
       " 'RPC/Muon/Endcap-/Disk_-?/ring_?/sector_?/Occupancy_RE-?_R?_CH??',\n",
       " 'RPC/Muon/NumberOfMuons',\n",
       " 'RPC/Muon/NumberOfRecHitMuons',\n",
       " 'RPC/Muon/RPCEvents',\n",
       " 'RPC/Muon/SummaryHistograms/?DOccupancy_Ring_?',\n",
       " 'RPC/Muon/SummaryHistograms/?DOccupancy_Wheel_-?',\n",
       " 'RPC/Muon/SummaryHistograms/?DOccupancy_Wheel_?',\n",
       " 'RPC/Muon/SummaryHistograms/BxDistribution_Disk_-?',\n",
       " 'RPC/Muon/SummaryHistograms/BxDistribution_Disk_?',\n",
       " 'RPC/Muon/SummaryHistograms/BxDistribution_Wheel_-?',\n",
       " 'RPC/Muon/SummaryHistograms/BxDistribution_Wheel_?',\n",
       " 'RPC/Muon/SummaryHistograms/ClusterSize_Barrel',\n",
       " 'RPC/Muon/SummaryHistograms/ClusterSize_Disk_-?_Ring?',\n",
       " 'RPC/Muon/SummaryHistograms/ClusterSize_Disk_?_Ring?',\n",
       " 'RPC/Muon/SummaryHistograms/ClusterSize_Endcap+',\n",
       " 'RPC/Muon/SummaryHistograms/ClusterSize_Endcap-',\n",
       " 'RPC/Muon/SummaryHistograms/ClusterSize_Layer?',\n",
       " 'RPC/Muon/SummaryHistograms/ClusterSize_Ring?',\n",
       " 'RPC/Muon/SummaryHistograms/ClusterSize_Wheel_-?_Layer?',\n",
       " 'RPC/Muon/SummaryHistograms/ClusterSize_Wheel_?_Layer?',\n",
       " 'RPC/Muon/SummaryHistograms/Multiplicity_Barrel',\n",
       " 'RPC/Muon/SummaryHistograms/Multiplicity_Endcap+',\n",
       " 'RPC/Muon/SummaryHistograms/Multiplicity_Endcap-',\n",
       " 'RPC/Muon/SummaryHistograms/NumberOfClusters_Barrel',\n",
       " 'RPC/Muon/SummaryHistograms/NumberOfClusters_Endcap+',\n",
       " 'RPC/Muon/SummaryHistograms/NumberOfClusters_Endcap-',\n",
       " 'RPC/Muon/SummaryHistograms/Occupancy_Ring_vs_Segment_Disk_-?',\n",
       " 'RPC/Muon/SummaryHistograms/Occupancy_Ring_vs_Segment_Disk_?',\n",
       " 'RPC/Muon/SummaryHistograms/Occupancy_Roll_vs_Sector_Wheel_-?',\n",
       " 'RPC/Muon/SummaryHistograms/Occupancy_Roll_vs_Sector_Wheel_?',\n",
       " 'RPC/Muon/SummaryHistograms/Occupancy_for_Barrel',\n",
       " 'RPC/Muon/SummaryHistograms/Occupancy_for_Endcap',\n",
       " 'RPC/Muon/SummaryHistograms/RecHits/?RecHitMuonEta',\n",
       " 'RPC/Muon/SummaryHistograms/RecHits/?RecHitMuonPhiB',\n",
       " 'RPC/Muon/SummaryHistograms/RecHits/?RecHitMuonPhiEM',\n",
       " 'RPC/Muon/SummaryHistograms/RecHits/?RecHitMuonPhiEP',\n",
       " 'RPC/Muon/SummaryHistograms/RecHits/?RecHitMuonPtB',\n",
       " 'RPC/Muon/SummaryHistograms/RecHits/?RecHitMuonPtEM',\n",
       " 'RPC/Muon/SummaryHistograms/RecHits/?RecHitMuonPtEP',\n",
       " 'RPC/Muon/SummaryHistograms/RecHits/NumberOfMuonEta',\n",
       " 'RPC/Muon/SummaryHistograms/RecHits/NumberOfMuonPhi_Barrel',\n",
       " 'RPC/Muon/SummaryHistograms/RecHits/NumberOfMuonPhi_EndcapM',\n",
       " 'RPC/Muon/SummaryHistograms/RecHits/NumberOfMuonPhi_EndcapP',\n",
       " 'RPC/Muon/SummaryHistograms/RecHits/NumberOfMuonPt_Barrel',\n",
       " 'RPC/Muon/SummaryHistograms/RecHits/NumberOfMuonPt_EndcapM',\n",
       " 'RPC/Muon/SummaryHistograms/RecHits/NumberOfMuonPt_EndcapP',\n",
       " 'RPC/Muon/SummaryHistograms/RecHits/RPCRecHitMuonEta',\n",
       " 'RPC/RPCEfficiency/MuonSegEff/Barrel/Wheel_-?/sector_?/station_?/ExpectedOccupancyFromDT_?????????',\n",
       " 'RPC/RPCEfficiency/MuonSegEff/Barrel/Wheel_-?/sector_?/station_?/RPCDataOccupancyFromDT_?????????',\n",
       " 'RPC/RPCEfficiency/MuonSegEff/Barrel/Wheel_-?/sector_??/station_?/ExpectedOccupancyFromDT_?????????',\n",
       " 'RPC/RPCEfficiency/MuonSegEff/Barrel/Wheel_-?/sector_??/station_?/RPCDataOccupancyFromDT_?????????',\n",
       " 'RPC/RPCEfficiency/MuonSegEff/Barrel/Wheel_?/sector_?/station_?/ExpectedOccupancyFromDT_?????????',\n",
       " 'RPC/RPCEfficiency/MuonSegEff/Barrel/Wheel_?/sector_?/station_?/RPCDataOccupancyFromDT_?????????',\n",
       " 'RPC/RPCEfficiency/MuonSegEff/Barrel/Wheel_?/sector_??/station_?/ExpectedOccupancyFromDT_?????????',\n",
       " 'RPC/RPCEfficiency/MuonSegEff/Barrel/Wheel_?/sector_??/station_?/RPCDataOccupancyFromDT_?????????',\n",
       " 'RPC/RPCEfficiency/MuonSegEff/Endcap+/Disk_?/ring_?/sector_?/ExpectedOccupancyFromCSC_?????????',\n",
       " 'RPC/RPCEfficiency/MuonSegEff/Endcap+/Disk_?/ring_?/sector_?/RPCDataOccupancyFromCSC_?????????',\n",
       " 'RPC/RPCEfficiency/MuonSegEff/Endcap-/Disk_-?/ring_?/sector_?/ExpectedOccupancyFromCSC_?????????',\n",
       " 'RPC/RPCEfficiency/MuonSegEff/Endcap-/Disk_-?/ring_?/sector_?/RPCDataOccupancyFromCSC_?????????',\n",
       " 'RPC/RPCEfficiency/MuonSegEff/Residuals/Barrel/GlobalResidualsClu?La?',\n",
       " 'RPC/RPCEfficiency/MuonSegEff/Residuals/Endcap/GlobalResidualsClu?R?A',\n",
       " 'RPC/RPCEfficiency/MuonSegEff/Residuals/Endcap/GlobalResidualsClu?R?B',\n",
       " 'RPC/RPCEfficiency/MuonSegEff/Residuals/Endcap/GlobalResidualsClu?R?C',\n",
       " 'RPC/RPCEfficiency/Statistics'}"
      ]
     },
     "execution_count": 5,
     "metadata": {},
     "output_type": "execute_result"
    }
   ],
   "source": [
    "# 4. Find some interesting MEs to look at, from the list of ~100K available MEs.\n",
    "import re\n",
    "set([re.sub(\"[0-9]\", \"?\", x) for x in r.listMEs() if x.startswith(\"RPC\")])\n",
    "#[x for x in r.listMEs() if x.startswith(\"DT/02-Segments/Wheel1/Sector6/Station2\")]"
   ]
  },
  {
   "cell_type": "code",
   "execution_count": 6,
   "metadata": {},
   "outputs": [
    {
     "data": {
      "text/plain": [
       "'Processed 8510 out of 8551 lumis in 5 s ( 100%,  23.38/s, avg 1557.92/s)'"
      ]
     },
     "metadata": {},
     "output_type": "display_data"
    },
    {
     "name": "stdout",
     "output_type": "stream",
     "text": [
      "CPU times: user 20min 27s, sys: 20.4 s, total: 20min 47s\n",
      "Wall time: 20.4 s\n"
     ]
    }
   ],
   "source": [
    "# 5. Read a single ME for all LS. This is where actual IO happens.\n",
    "# The majority of this code is just to get a progress indicator; \n",
    "# with warm caches reading a ME should take < 20s on Minsky,\n",
    "# but it can take minutes to hours with other systems or cold caches!\n",
    "\n",
    "from IPython import display\n",
    "from timeit import default_timer\n",
    "\n",
    "def showcount(ctr):\n",
    "    global start, lasttime, lastcount\n",
    "    try: # fails if things are not initialized or the ctr was reset.\n",
    "        assert(lastcount < ctr)\n",
    "    except:\n",
    "        start = default_timer()\n",
    "        lasttime = default_timer()\n",
    "        lastcount = 0\n",
    "    total = len(r.listLumis())\n",
    "    tottime = default_timer() - start\n",
    "    deltatime = default_timer() - lasttime\n",
    "    lasttime = default_timer()\n",
    "    deltacount = ctr - lastcount\n",
    "    lastcount = ctr\n",
    "    display.clear_output(wait=True)\n",
    "    display.display(\"Processed %d out of %d lumis in %d s (% 2.0f%%, % 4.2f/s, avg %4.2f/s)\" % (ctr, total, tottime, 100.0*ctr/total, deltacount/deltatime, ctr/tottime))\n",
    "\n",
    "# This specific RPC histogram shows clearly a failure that happend during run 316722.\n",
    "# The sample data is selected to contain this run (and more).\n",
    "%time data = r.getSingleMEs(\"RPC/Muon/SummaryHistograms/NumberOfClusters_Endcap-\", callback=showcount)\n"
   ]
  },
  {
   "cell_type": "code",
   "execution_count": 7,
   "metadata": {},
   "outputs": [],
   "source": [
    "# 6. Set up matplotlib to draw into the notebook.\n",
    "\n",
    "import matplotlib\n",
    "matplotlib.rcParams['figure.figsize'] = [15, 8]\n",
    "%matplotlib inline\n",
    "import matplotlib.pyplot as plt\n",
    "import numpy\n"
   ]
  },
  {
   "cell_type": "code",
   "execution_count": 8,
   "metadata": {},
   "outputs": [
    {
     "data": {
      "text/plain": [
       "[<matplotlib.lines.Line2D at 0x3ffd7be21e90>]"
      ]
     },
     "execution_count": 8,
     "metadata": {},
     "output_type": "execute_result"
    },
    {
     "data": {
      "image/png": "[encoded data removed]",
      "text/plain": [
       "<Figure size 432x288 with 1 Axes>"
      ]
     },
     "metadata": {
      "needs_background": "light"
     },
     "output_type": "display_data"
    }
   ],
   "source": [
    "# first, some metadata\n",
    "\n",
    "run = [me.run for me in sorted(data)]\n",
    "plt.plot(run)\n",
    "\n",
    "# we have a lot of random runs from 2018A"
   ]
  },
  {
   "cell_type": "code",
   "execution_count": 9,
   "metadata": {},
   "outputs": [
    {
     "data": {
      "text/plain": [
       "[<matplotlib.lines.Line2D at 0x3ffd7aa0aad0>]"
      ]
     },
     "execution_count": 9,
     "metadata": {},
     "output_type": "execute_result"
    },
    {
     "data": {
      "image/png": "[encoded data removed]",
      "text/plain": [
       "<Figure size 432x288 with 1 Axes>"
      ]
     },
     "metadata": {
      "needs_background": "light"
     },
     "output_type": "display_data"
    }
   ],
   "source": [
    "lumi = [me.lumi for me in sorted(data)]\n",
    "plt.plot(lumi)\n",
    "\n",
    "# but only for 316722 we have all lumis."
   ]
  },
  {
   "cell_type": "code",
   "execution_count": 10,
   "metadata": {},
   "outputs": [
    {
     "data": {
      "text/plain": [
       "[<matplotlib.lines.Line2D at 0x3ffd7a415a50>]"
      ]
     },
     "execution_count": 10,
     "metadata": {},
     "output_type": "execute_result"
    },
    {
     "data": {
      "image/png": "[encoded data removed]",
      "text/plain": [
       "<Figure size 432x288 with 1 Axes>"
      ]
     },
     "metadata": {
      "needs_background": "light"
     },
     "output_type": "display_data"
    }
   ],
   "source": [
    "# then, the actual ME data\n",
    "trend = [sum(me.data*numpy.arange(me.data.shape[0]))/sum(me.data) for me in sorted(data) if me.run == 316722]\n",
    "plt.plot(trend)"
   ]
  },
  {
   "cell_type": "code",
   "execution_count": 11,
   "metadata": {},
   "outputs": [
    {
     "data": {
      "text/plain": [
       "'Processed 8540 out of 8551 lumis in 17 s ( 100%,  29.57/s, avg 480.03/s)'"
      ]
     },
     "metadata": {},
     "output_type": "display_data"
    },
    {
     "name": "stdout",
     "output_type": "stream",
     "text": [
      "CPU times: user 19min 11s, sys: 11.2 s, total: 19min 22s\n",
      "Wall time: 18.9 s\n"
     ]
    },
    {
     "data": {
      "text/plain": [
       "[<matplotlib.lines.Line2D at 0x3ffd589fbb50>]"
      ]
     },
     "execution_count": 11,
     "metadata": {},
     "output_type": "execute_result"
    },
    {
     "data": {
      "image/png": "[encoded data removed]",
      "text/plain": [
       "<Figure size 432x288 with 1 Axes>"
      ]
     },
     "metadata": {
      "needs_background": "light"
     },
     "output_type": "display_data"
    }
   ],
   "source": [
    "# it turns out there is also a weird anomaly in many other subsystems, in the same run\n",
    "\n",
    "%time sistripdata = r.getSingleMEs(\"SiStrip/MechanicalView/MainDiagonal Position\", callback=showcount)\n",
    "sistriptrend = [sum(me.data*numpy.arange(me.data.shape[0]))/sum(me.data) for me in sorted(sistripdata) if me.run == 316722]\n",
    "plt.plot(sistriptrend)"
   ]
  },
  {
   "cell_type": "code",
   "execution_count": 12,
   "metadata": {},
   "outputs": [
    {
     "data": {
      "text/plain": [
       "'Processed 8550 out of 8551 lumis in 13 s ( 100%,  88.70/s, avg 646.19/s)'"
      ]
     },
     "metadata": {},
     "output_type": "display_data"
    },
    {
     "name": "stdout",
     "output_type": "stream",
     "text": [
      "CPU times: user 10min 39s, sys: 6.22 s, total: 10min 45s\n",
      "Wall time: 13.5 s\n"
     ]
    },
    {
     "data": {
      "text/plain": [
       "[<matplotlib.lines.Line2D at 0x3ffd5893ea10>]"
      ]
     },
     "execution_count": 12,
     "metadata": {},
     "output_type": "execute_result"
    },
    {
     "data": {
      "image/png": "[encoded data removed]",
      "text/plain": [
       "<Figure size 432x288 with 1 Axes>"
      ]
     },
     "metadata": {
      "needs_background": "light"
     },
     "output_type": "display_data"
    }
   ],
   "source": [
    "# for technical reasons, we have no per-lumi data of the ECAL barrel\n",
    "# though maybe some L1T plots could be used.\n",
    "# We do have the ECAL preshower though.\n",
    "\n",
    "%time ecaldata = r.getSingleMEs(\"EcalPreshower/ESOccupancyTask/ES Energy Density Z -1 P 2\", callback=showcount)\n",
    "me = ecaldata[0]\n",
    "gridx, gridy = numpy.meshgrid(numpy.arange(me.data.shape[1]), numpy.arange(me.data.shape[0]))\n",
    "# blank out one overflow bin, it is quite massive\n",
    "for me in ecaldata:\n",
    "    me.data[39][39] = 0\n",
    "\n",
    "ecalxtrend = [sum(sum(me.data*gridx))/sum(sum(me.data)) for me in sorted(ecaldata) if me.run == 316722]\n",
    "plt.plot(ecalxtrend)\n",
    "ecalytrend = [sum(sum(me.data*gridy))/sum(sum(me.data)) for me in sorted(ecaldata) if me.run == 316722]\n",
    "plt.plot(ecalytrend)"
   ]
  },
  {
   "cell_type": "code",
   "execution_count": 13,
   "metadata": {},
   "outputs": [
    {
     "data": {
      "image/png": "[encoded data removed]",
      "text/plain": [
       "<Figure size 432x288 with 1 Axes>"
      ]
     },
     "metadata": {
      "needs_background": "light"
     },
     "output_type": "display_data"
    }
   ],
   "source": [
    "import random\n",
    "for me in random.sample(ecaldata, 1):\n",
    "    plt.imshow(me.data)"
   ]
  },
  {
   "cell_type": "code",
   "execution_count": 14,
   "metadata": {},
   "outputs": [
    {
     "data": {
      "text/plain": [
       "'Processed 8550 out of 8551 lumis in 221 s ( 100%,  13.86/s, avg 38.53/s)'"
      ]
     },
     "metadata": {},
     "output_type": "display_data"
    },
    {
     "name": "stdout",
     "output_type": "stream",
     "text": [
      "CPU times: user 10min 34s, sys: 6.66 s, total: 10min 41s\n",
      "Wall time: 3min 42s\n"
     ]
    },
    {
     "data": {
      "text/plain": [
       "[<matplotlib.lines.Line2D at 0x3ffd58073850>]"
      ]
     },
     "execution_count": 14,
     "metadata": {},
     "output_type": "execute_result"
    },
    {
     "data": {
      "image/png": "[encoded data removed]",
      "text/plain": [
       "<Figure size 432x288 with 1 Axes>"
      ]
     },
     "metadata": {
      "needs_background": "light"
     },
     "output_type": "display_data"
    }
   ],
   "source": [
    "# there is also not much HCAL data, but we do have these occupance maps.\n",
    "\n",
    "%time hcaldata = r.getSingleMEs(\"Hcal/DigiPhase1Task/Occupancy/depth/depth5\", callback=showcount)\n",
    "\n",
    "me = hcaldata[0]\n",
    "gridx, gridy = numpy.meshgrid(numpy.arange(me.data.shape[1]), numpy.arange(me.data.shape[0]))\n",
    "\n",
    "hcalxtrend = [sum(sum(me.data*gridx))/sum(sum(me.data))-me.data.shape[1]/2.0 for me in sorted(hcaldata) if me.run == 316722]\n",
    "plt.plot(hcalxtrend)\n",
    "hcalytrend = [sum(sum(me.data*gridy))/sum(sum(me.data))-me.data.shape[0]/2.0 for me in sorted(hcaldata) if me.run == 316722]\n",
    "plt.plot(hcalytrend)"
   ]
  },
  {
   "cell_type": "code",
   "execution_count": null,
   "metadata": {},
   "outputs": [],
   "source": [
    "# they look quite weird, but that is the structure of HCAL.\n",
    "\n",
    "import random\n",
    "for me in random.sample(hcaldata, 1):\n",
    "    plt.imshow(me.data)"
   ]
  },
  {
   "cell_type": "code",
   "execution_count": null,
   "metadata": {},
   "outputs": [],
   "source": [
    "# all the trends in one figure.\n",
    "\n",
    "plt.plot(hcalytrend, label=\"HCAL Occupancy center-of-mass Y\")\n",
    "plt.plot(numpy.array(ecalytrend)-20, label=\"ECAL Preshower Occupancy, center-of-mass Y\")\n",
    "plt.plot(numpy.array(sistriptrend)-35, label=\"SiStrip/SiPixel main diagonal position mean\")\n",
    "plt.plot(trend, label=\"RPC EndCap- nubmer of clusters mean\")\n",
    "\n",
    "plt.xlabel(\"LS# in run 316722\")\n",
    "plt.ylabel(\"arbitrary units\")\n",
    "plt.legend()\n"
   ]
  },
  {
   "cell_type": "code",
   "execution_count": null,
   "metadata": {},
   "outputs": [],
   "source": [
    "# 7. Now do some machine learning to find anomalies such as this!"
   ]
  }
 ],
 "metadata": {
  "kernelspec": {
   "display_name": "Python 2",
   "language": "python",
   "name": "python2"
  },
  "language_info": {
   "codemirror_mode": {
    "name": "ipython",
    "version": 2
   },
   "file_extension": ".py",
   "mimetype": "text/x-python",
   "name": "python",
   "nbconvert_exporter": "python",
   "pygments_lexer": "ipython2",
   "version": "2.7.15+"
  }
 },
 "nbformat": 4,
 "nbformat_minor": 4
}
